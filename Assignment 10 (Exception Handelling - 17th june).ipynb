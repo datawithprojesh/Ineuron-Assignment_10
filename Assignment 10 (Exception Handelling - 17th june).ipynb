{
 "cells": [
  {
   "cell_type": "markdown",
   "id": "d3cc1c94",
   "metadata": {},
   "source": [
    "## Q1. What is the role of try and exception block?"
   ]
  },
  {
   "cell_type": "markdown",
   "id": "2a3e7920",
   "metadata": {},
   "source": [
    "The role of try and exception block is to catch any error in your code. We use this when we excpect any certain kind of error from our code and to address the error in more suitable manner we use the try and except block. \n",
    "\n",
    "Please find the below example -"
   ]
  },
  {
   "cell_type": "code",
   "execution_count": 2,
   "id": "fcd3a26b",
   "metadata": {},
   "outputs": [
    {
     "name": "stdout",
     "output_type": "stream",
     "text": [
      "Some issue with x\n"
     ]
    }
   ],
   "source": [
    "try:\n",
    "  print(x)\n",
    "except:\n",
    "  print(\"Some issue with x\")"
   ]
  },
  {
   "cell_type": "markdown",
   "id": "21d08124",
   "metadata": {},
   "source": [
    "As you can see, in the above example x is not defined. So, if we try to print 'x' it will throw an Nameerror. So, to avoid that we are using 'try and exception block'. \n",
    "\n",
    "which will print the exception part whenever there is an error in out try block."
   ]
  },
  {
   "cell_type": "markdown",
   "id": "6d478b5d",
   "metadata": {},
   "source": [
    "## Q2.What is the syntax for a basic try-except block?"
   ]
  },
  {
   "cell_type": "markdown",
   "id": "ee5b207b",
   "metadata": {},
   "source": [
    "The basic syntax for try-except block is:\n",
    "    \n",
    "try:\n",
    "    ('your code')\n",
    "\n",
    "except:\n",
    "    ('what to do when your code throw and error')"
   ]
  },
  {
   "cell_type": "markdown",
   "id": "6fae14be",
   "metadata": {},
   "source": [
    "## Q3. What happens if an exception occurs inside a try block and there is no matching except block?"
   ]
  },
  {
   "cell_type": "markdown",
   "id": "b45f0dae",
   "metadata": {},
   "source": [
    "When the exception raised in try block does not match with the except block it will throw the below error. Here we can see there is and ZeroDivisionError. But, in our except block we have mentioned ValueError, which is not matching with our exception. So to avoid these kind of situation we must always write the correct error term in our except block."
   ]
  },
  {
   "cell_type": "code",
   "execution_count": 5,
   "id": "b92a2421",
   "metadata": {},
   "outputs": [
    {
     "ename": "ZeroDivisionError",
     "evalue": "division by zero",
     "output_type": "error",
     "traceback": [
      "\u001b[1;31m---------------------------------------------------------------------------\u001b[0m",
      "\u001b[1;31mZeroDivisionError\u001b[0m                         Traceback (most recent call last)",
      "\u001b[1;32m~\\AppData\\Local\\Temp\\ipykernel_19896\\2312310661.py\u001b[0m in \u001b[0;36m<module>\u001b[1;34m\u001b[0m\n\u001b[0;32m      1\u001b[0m \u001b[1;32mtry\u001b[0m\u001b[1;33m:\u001b[0m\u001b[1;33m\u001b[0m\u001b[1;33m\u001b[0m\u001b[0m\n\u001b[1;32m----> 2\u001b[1;33m     \u001b[0mx\u001b[0m \u001b[1;33m=\u001b[0m \u001b[1;36m10\u001b[0m \u001b[1;33m/\u001b[0m \u001b[1;36m0\u001b[0m\u001b[1;33m\u001b[0m\u001b[1;33m\u001b[0m\u001b[0m\n\u001b[0m\u001b[0;32m      3\u001b[0m \u001b[1;32mexcept\u001b[0m \u001b[0mValueError\u001b[0m\u001b[1;33m:\u001b[0m\u001b[1;33m\u001b[0m\u001b[1;33m\u001b[0m\u001b[0m\n\u001b[0;32m      4\u001b[0m     \u001b[0mprint\u001b[0m\u001b[1;33m(\u001b[0m\u001b[1;34m\"Caught ValueError\"\u001b[0m\u001b[1;33m)\u001b[0m\u001b[1;33m\u001b[0m\u001b[1;33m\u001b[0m\u001b[0m\n",
      "\u001b[1;31mZeroDivisionError\u001b[0m: division by zero"
     ]
    }
   ],
   "source": [
    "try:\n",
    "    x = 10 / 0\n",
    "except ValueError:\n",
    "    print(\"Caught ValueError\")"
   ]
  },
  {
   "cell_type": "code",
   "execution_count": 6,
   "id": "b85569c5",
   "metadata": {},
   "outputs": [
    {
     "name": "stdout",
     "output_type": "stream",
     "text": [
      "Caught ZerodivisionError\n"
     ]
    }
   ],
   "source": [
    "try:\n",
    "    x = 10 / 0\n",
    "except ZeroDivisionError:\n",
    "    print(\"Caught ZerodivisionError\")"
   ]
  },
  {
   "cell_type": "markdown",
   "id": "395e5d95",
   "metadata": {},
   "source": [
    "As you can see now, when we corrected the error name in except block, it is not throwing any error in out code. So, it is very important that we identify the error properly and address them correctly."
   ]
  },
  {
   "cell_type": "markdown",
   "id": "07bab91e",
   "metadata": {},
   "source": [
    "## Q4. What is the difference between using a bare except block and specifying a specific exception type?"
   ]
  },
  {
   "cell_type": "markdown",
   "id": "0a557fb9",
   "metadata": {},
   "source": [
    "The difference between bare exception and specifying the exception type is huge. If you check the below example i have not mentioned the exception type and this is an example of 'bare except block'.\n",
    "This has couple of disadvantages. such as -\n",
    "\n",
    "- Though it doesnot throw any error, but it will be difficult to understand what type of error we have received.\n",
    "- Depending on what type of error we use specific methods to handle them. which becomes bit difficult to achieve."
   ]
  },
  {
   "cell_type": "code",
   "execution_count": 9,
   "id": "8f11b91a",
   "metadata": {},
   "outputs": [
    {
     "name": "stdout",
     "output_type": "stream",
     "text": [
      "Caught Error\n"
     ]
    }
   ],
   "source": [
    "try:\n",
    "    x = 10 / 0\n",
    "except:\n",
    "    print(\"Caught Error\")"
   ]
  },
  {
   "cell_type": "markdown",
   "id": "57da3506",
   "metadata": {},
   "source": [
    "On the other hand if we mention the specific type of the exception it becomes easier to handle them with proper methods. In this way handelling exception becomes a smooth process."
   ]
  },
  {
   "cell_type": "code",
   "execution_count": 8,
   "id": "9005e03d",
   "metadata": {},
   "outputs": [
    {
     "name": "stdout",
     "output_type": "stream",
     "text": [
      "Caught ZerodivisionError\n"
     ]
    }
   ],
   "source": [
    "try:\n",
    "    x = 10 / 0\n",
    "except ZeroDivisionError:\n",
    "    print(\"Caught ZerodivisionError\")"
   ]
  },
  {
   "cell_type": "markdown",
   "id": "704ccb80",
   "metadata": {},
   "source": [
    "## Q5. Can you have nested try-except blocks in Python? If yes, then give an example."
   ]
  },
  {
   "cell_type": "markdown",
   "id": "1f21ec0c",
   "metadata": {},
   "source": [
    "Yes, you can have nested try-except blocks in Python. This means that you can have a try block inside another try block, and each try block can have its own corresponding except block(s). This allows for a more granular handling of exceptions in different parts of your code.\n",
    "\n",
    "Here's an example of nested try-except blocks:"
   ]
  },
  {
   "cell_type": "code",
   "execution_count": 10,
   "id": "72dee58d",
   "metadata": {},
   "outputs": [
    {
     "name": "stdout",
     "output_type": "stream",
     "text": [
      "Outer try block\n",
      "Inner try block\n",
      "Inner except block: Cannot divide by zero\n",
      "Inner finally block\n",
      "Outer finally block\n"
     ]
    }
   ],
   "source": [
    "try:\n",
    "    # Outer try block\n",
    "    print(\"Outer try block\")\n",
    "    try:\n",
    "        # Inner try block\n",
    "        print(\"Inner try block\")\n",
    "        x = 10 / 0  # Division by zero\n",
    "    except ZeroDivisionError:\n",
    "        # Inner except block\n",
    "        print(\"Inner except block: Cannot divide by zero\")\n",
    "    finally:\n",
    "        # Inner finally block\n",
    "        print(\"Inner finally block\")\n",
    "\n",
    "except:\n",
    "    # Outer except block\n",
    "    print(\"Outer except block: An error occurred\")\n",
    "\n",
    "finally:\n",
    "    # Outer finally block\n",
    "    print(\"Outer finally block\")\n"
   ]
  },
  {
   "cell_type": "markdown",
   "id": "2ae88c77",
   "metadata": {},
   "source": [
    "Nested try-except blocks allow you to handle exceptions at different levels of your code and provide flexibility in how you respond to different types of errors in various contexts.\n"
   ]
  },
  {
   "cell_type": "markdown",
   "id": "0cc97665",
   "metadata": {},
   "source": [
    "## Q6. Can we use multiple exception blocks, if yes then give an example."
   ]
  },
  {
   "cell_type": "markdown",
   "id": "1a1eaf3f",
   "metadata": {},
   "source": [
    "Yes, you can use multiple except blocks to handle different types of exceptions in Python. This allows you to specify different exception types and corresponding exception handling code for each block.\n",
    "\n",
    "Here's an example that demonstrates the use of multiple except blocks:"
   ]
  },
  {
   "cell_type": "code",
   "execution_count": 13,
   "id": "552673c4",
   "metadata": {},
   "outputs": [
    {
     "name": "stdout",
     "output_type": "stream",
     "text": [
      "Enter a number: abc\n",
      "Invalid input. Please enter a valid number.\n"
     ]
    }
   ],
   "source": [
    "try:\n",
    "    # Code that may raise an exception\n",
    "    x = int(input(\"Enter a number: \"))\n",
    "    result = 10 / x\n",
    "    print(\"Result:\", result)\n",
    "except ValueError:\n",
    "    # This except block handles ValueError\n",
    "    print(\"Invalid input. Please enter a valid number.\")\n",
    "except ZeroDivisionError:\n",
    "    # This except block handles ZeroDivisionError\n",
    "    print(\"Cannot divide by zero.\")\n",
    "except Exception as e:\n",
    "    # This except block handles any other exception\n",
    "    print(\"An error occurred:\", str(e))\n"
   ]
  },
  {
   "cell_type": "markdown",
   "id": "0da262be",
   "metadata": {},
   "source": [
    "By using multiple except blocks, you can handle different exceptions separately and provide specific error messages or actions based on the type of exception that occurred. This allows for more precise and targeted exception handling in your code."
   ]
  },
  {
   "cell_type": "markdown",
   "id": "c54ba0f5",
   "metadata": {},
   "source": [
    "## Q7. Write the reason due to which following errors are raised:\n",
    "- a. EOFError\n",
    "- b. FloatingPointError\n",
    "- c. IndexError\n",
    "- d. MemoryError\n",
    "- e. OverflowError\n",
    "- f. TabError\n",
    "- g. ValueError"
   ]
  },
  {
   "cell_type": "markdown",
   "id": "fae251a1",
   "metadata": {},
   "source": [
    "- EOFError: This is raised when the input() function hits an end-of-file condition (EOF)."
   ]
  },
  {
   "cell_type": "code",
   "execution_count": 3,
   "id": "ba0969bb",
   "metadata": {},
   "outputs": [
    {
     "ename": "SyntaxError",
     "evalue": "unexpected EOF while parsing (3814276001.py, line 2)",
     "output_type": "error",
     "traceback": [
      "\u001b[1;36m  File \u001b[1;32m\"C:\\Users\\proje\\AppData\\Local\\Temp\\ipykernel_19864\\3814276001.py\"\u001b[1;36m, line \u001b[1;32m2\u001b[0m\n\u001b[1;33m    print(age\u001b[0m\n\u001b[1;37m             ^\u001b[0m\n\u001b[1;31mSyntaxError\u001b[0m\u001b[1;31m:\u001b[0m unexpected EOF while parsing\n"
     ]
    }
   ],
   "source": [
    "age = 20\n",
    "print(age"
   ]
  },
  {
   "cell_type": "markdown",
   "id": "393abc42",
   "metadata": {},
   "source": [
    "- FloatingPointError: This is raised when a floating point operation fails."
   ]
  },
  {
   "cell_type": "markdown",
   "id": "2b0b3084",
   "metadata": {},
   "source": [
    "- IndexError: Raised when a sequence subscript (index) is out of range."
   ]
  },
  {
   "cell_type": "code",
   "execution_count": 2,
   "id": "fdfa4b1f",
   "metadata": {},
   "outputs": [
    {
     "ename": "IndexError",
     "evalue": "list index out of range",
     "output_type": "error",
     "traceback": [
      "\u001b[1;31m---------------------------------------------------------------------------\u001b[0m",
      "\u001b[1;31mIndexError\u001b[0m                                Traceback (most recent call last)",
      "\u001b[1;32m~\\AppData\\Local\\Temp\\ipykernel_19864\\2999377717.py\u001b[0m in \u001b[0;36m<module>\u001b[1;34m\u001b[0m\n\u001b[0;32m      1\u001b[0m \u001b[0mmylist\u001b[0m \u001b[1;33m=\u001b[0m \u001b[1;33m[\u001b[0m\u001b[1;36m1\u001b[0m\u001b[1;33m,\u001b[0m\u001b[1;36m2\u001b[0m\u001b[1;33m,\u001b[0m\u001b[1;36m3\u001b[0m\u001b[1;33m,\u001b[0m\u001b[1;36m4\u001b[0m\u001b[1;33m]\u001b[0m\u001b[1;33m\u001b[0m\u001b[1;33m\u001b[0m\u001b[0m\n\u001b[1;32m----> 2\u001b[1;33m \u001b[0mprint\u001b[0m\u001b[1;33m(\u001b[0m\u001b[0mmylist\u001b[0m\u001b[1;33m[\u001b[0m\u001b[1;36m6\u001b[0m\u001b[1;33m]\u001b[0m\u001b[1;33m)\u001b[0m\u001b[1;33m\u001b[0m\u001b[1;33m\u001b[0m\u001b[0m\n\u001b[0m",
      "\u001b[1;31mIndexError\u001b[0m: list index out of range"
     ]
    }
   ],
   "source": [
    "mylist = [1,2,3,4]\n",
    "print(mylist[6])"
   ]
  },
  {
   "cell_type": "markdown",
   "id": "58bdec09",
   "metadata": {},
   "source": [
    "- MemoryError: Raised when an operation runs out of memory."
   ]
  },
  {
   "cell_type": "code",
   "execution_count": 27,
   "id": "8eb963a0",
   "metadata": {},
   "outputs": [
    {
     "ename": "MemoryError",
     "evalue": "",
     "output_type": "error",
     "traceback": [
      "\u001b[1;31m---------------------------------------------------------------------------\u001b[0m",
      "\u001b[1;31mMemoryError\u001b[0m                               Traceback (most recent call last)",
      "\u001b[1;32m~\\AppData\\Local\\Temp\\ipykernel_19896\\1756276277.py\u001b[0m in \u001b[0;36m<module>\u001b[1;34m\u001b[0m\n\u001b[1;32m----> 1\u001b[1;33m \u001b[0mbig_list\u001b[0m \u001b[1;33m=\u001b[0m \u001b[1;33m[\u001b[0m\u001b[1;36m1\u001b[0m\u001b[1;33m]\u001b[0m \u001b[1;33m*\u001b[0m \u001b[1;33m(\u001b[0m\u001b[1;36m10\u001b[0m \u001b[1;33m**\u001b[0m \u001b[1;36m12\u001b[0m\u001b[1;33m)\u001b[0m\u001b[1;33m\u001b[0m\u001b[1;33m\u001b[0m\u001b[0m\n\u001b[0m\u001b[0;32m      2\u001b[0m \u001b[0mprint\u001b[0m\u001b[1;33m(\u001b[0m\u001b[0mbig_list\u001b[0m\u001b[1;33m)\u001b[0m\u001b[1;33m\u001b[0m\u001b[1;33m\u001b[0m\u001b[0m\n",
      "\u001b[1;31mMemoryError\u001b[0m: "
     ]
    }
   ],
   "source": [
    "big_list = [1] * (10 ** 12)\n",
    "print(big_list)"
   ]
  },
  {
   "cell_type": "markdown",
   "id": "09713db0",
   "metadata": {},
   "source": [
    "- OverflowError: Raised when the result of an arithmetic operation is too large to be expressed."
   ]
  },
  {
   "cell_type": "code",
   "execution_count": null,
   "id": "45f903d8",
   "metadata": {},
   "outputs": [],
   "source": [
    "result = 5000 ** 1000000\n",
    "print(result)"
   ]
  },
  {
   "cell_type": "markdown",
   "id": "8d53dbcb",
   "metadata": {},
   "source": [
    "- TabError: Raised when indentation contains mixed tabs and spaces."
   ]
  },
  {
   "cell_type": "markdown",
   "id": "81fbc0af",
   "metadata": {},
   "source": [
    "- ValueError: Raised when a built-in operation or function receives an argument that has the right type but an inappropriate value."
   ]
  },
  {
   "cell_type": "code",
   "execution_count": 1,
   "id": "5f414053",
   "metadata": {},
   "outputs": [
    {
     "name": "stdout",
     "output_type": "stream",
     "text": [
      "Enter num 1: 1\n",
      "Enter num 2: abc\n"
     ]
    },
    {
     "ename": "ValueError",
     "evalue": "invalid literal for int() with base 10: 'abc'",
     "output_type": "error",
     "traceback": [
      "\u001b[1;31m---------------------------------------------------------------------------\u001b[0m",
      "\u001b[1;31mValueError\u001b[0m                                Traceback (most recent call last)",
      "\u001b[1;32m~\\AppData\\Local\\Temp\\ipykernel_19864\\2618414457.py\u001b[0m in \u001b[0;36m<module>\u001b[1;34m\u001b[0m\n\u001b[0;32m      1\u001b[0m \u001b[0mn\u001b[0m \u001b[1;33m=\u001b[0m \u001b[0mint\u001b[0m\u001b[1;33m(\u001b[0m\u001b[0minput\u001b[0m\u001b[1;33m(\u001b[0m\u001b[1;34m\"Enter num 1: \"\u001b[0m\u001b[1;33m)\u001b[0m\u001b[1;33m)\u001b[0m\u001b[1;33m\u001b[0m\u001b[1;33m\u001b[0m\u001b[0m\n\u001b[1;32m----> 2\u001b[1;33m \u001b[0md\u001b[0m \u001b[1;33m=\u001b[0m \u001b[0mint\u001b[0m\u001b[1;33m(\u001b[0m\u001b[0minput\u001b[0m\u001b[1;33m(\u001b[0m\u001b[1;34m\"Enter num 2: \"\u001b[0m\u001b[1;33m)\u001b[0m\u001b[1;33m)\u001b[0m\u001b[1;33m\u001b[0m\u001b[1;33m\u001b[0m\u001b[0m\n\u001b[0m\u001b[0;32m      3\u001b[0m \u001b[1;33m\u001b[0m\u001b[0m\n\u001b[0;32m      4\u001b[0m \u001b[0mresult\u001b[0m \u001b[1;33m=\u001b[0m \u001b[0mn\u001b[0m\u001b[1;33m/\u001b[0m\u001b[0md\u001b[0m\u001b[1;33m\u001b[0m\u001b[1;33m\u001b[0m\u001b[0m\n\u001b[0;32m      5\u001b[0m \u001b[0mprint\u001b[0m\u001b[1;33m(\u001b[0m\u001b[1;34m'Your Answer is, '\u001b[0m\u001b[1;33m,\u001b[0m \u001b[0mresult\u001b[0m\u001b[1;33m)\u001b[0m\u001b[1;33m\u001b[0m\u001b[1;33m\u001b[0m\u001b[0m\n",
      "\u001b[1;31mValueError\u001b[0m: invalid literal for int() with base 10: 'abc'"
     ]
    }
   ],
   "source": [
    "n = int(input(\"Enter num 1: \"))\n",
    "d = int(input(\"Enter num 2: \"))\n",
    "\n",
    "result = n/d\n",
    "print('Your Answer is, ', result)"
   ]
  },
  {
   "cell_type": "markdown",
   "id": "2090445a",
   "metadata": {},
   "source": [
    "## Q8. Write code for the following given scenario and add try-exception block to it.\n",
    "- a. Program to divide two numbers\n",
    "- b. Program to convert a string to an integer\n",
    "- c. Program to access an element in a list\n",
    "- d. Program to handle a specific exception\n",
    "- e. Program to handle any exception"
   ]
  },
  {
   "cell_type": "code",
   "execution_count": 15,
   "id": "34a0d044",
   "metadata": {},
   "outputs": [
    {
     "name": "stdout",
     "output_type": "stream",
     "text": [
      "Enter num 1: 12\n",
      "Enter num 2: 0\n",
      "You are dividing by zero. Please enter a value greater than zero in num 2.\n"
     ]
    }
   ],
   "source": [
    "# Program to divide two numbers with try and except block\n",
    "\n",
    "try:\n",
    "    n = int(input(\"Enter num 1: \"))\n",
    "    d = int(input(\"Enter num 2: \"))\n",
    "\n",
    "    result = n/d\n",
    "    print('Your Answer is, ', result)\n",
    "    \n",
    "except ZeroDivisionError:\n",
    "    print('You are dividing by zero. Please enter a value greater than zero in num 2.')"
   ]
  },
  {
   "cell_type": "code",
   "execution_count": 20,
   "id": "52589126",
   "metadata": {},
   "outputs": [
    {
     "name": "stdout",
     "output_type": "stream",
     "text": [
      "Enter a String value: abc\n",
      "Invalid Input. Unable to convert a string to integer!\n"
     ]
    }
   ],
   "source": [
    "# Program to convert a string to an integer with try and except block\n",
    "\n",
    "try:\n",
    "    str_to_int = int(input('Enter a String value: '))\n",
    "\n",
    "except ValueError:\n",
    "    print('Invalid Input. Unable to convert a string to integer!')"
   ]
  },
  {
   "cell_type": "code",
   "execution_count": 21,
   "id": "34a5f923",
   "metadata": {},
   "outputs": [
    {
     "name": "stdout",
     "output_type": "stream",
     "text": [
      "Your Index no is not availble in the list!\n"
     ]
    }
   ],
   "source": [
    "#  Program to access an element in a list with try and except blocK\n",
    "\n",
    "try:\n",
    "    mylist = [1,2,3,4]\n",
    "    print(mylist[6])\n",
    "    \n",
    "except IndexError:\n",
    "    print('Your Index no is not availble in the list!')"
   ]
  },
  {
   "cell_type": "code",
   "execution_count": 25,
   "id": "0b059142",
   "metadata": {},
   "outputs": [
    {
     "name": "stdout",
     "output_type": "stream",
     "text": [
      "The library you are trying to import is not there!\n"
     ]
    }
   ],
   "source": [
    "# Program to handle a specific exception with try and except block\n",
    "\n",
    "try:\n",
    "    import library123\n",
    "    \n",
    "except ImportError: \n",
    "    print(\"The library you are trying to import is not there!\")"
   ]
  },
  {
   "cell_type": "code",
   "execution_count": 26,
   "id": "61fd98be",
   "metadata": {},
   "outputs": [
    {
     "name": "stdout",
     "output_type": "stream",
     "text": [
      "Error!\n"
     ]
    }
   ],
   "source": [
    "# Program to handle any exception with try and except block\n",
    "\n",
    "try:\n",
    "    big_list = [1] * (10 ** 12)\n",
    "    print(big_list)\n",
    "    \n",
    "except:\n",
    "    print('Error!')"
   ]
  },
  {
   "cell_type": "code",
   "execution_count": null,
   "id": "2a2a6d06",
   "metadata": {},
   "outputs": [],
   "source": []
  }
 ],
 "metadata": {
  "kernelspec": {
   "display_name": "Python 3 (ipykernel)",
   "language": "python",
   "name": "python3"
  },
  "language_info": {
   "codemirror_mode": {
    "name": "ipython",
    "version": 3
   },
   "file_extension": ".py",
   "mimetype": "text/x-python",
   "name": "python",
   "nbconvert_exporter": "python",
   "pygments_lexer": "ipython3",
   "version": "3.9.13"
  }
 },
 "nbformat": 4,
 "nbformat_minor": 5
}
